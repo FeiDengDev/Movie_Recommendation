{
 "cells": [
  {
   "cell_type": "markdown",
   "metadata": {},
   "source": [
    "# Movie Recommendation System (Spark)"
   ]
  },
  {
   "cell_type": "markdown",
   "metadata": {},
   "source": [
    "Import the dataset"
   ]
  },
  {
   "cell_type": "code",
   "execution_count": 99,
   "metadata": {
    "collapsed": true
   },
   "outputs": [],
   "source": [
    "movies = spark.read.csv('../data/small/movies.csv',header=True,inferSchema=True)\n",
    "ratings = spark.read.csv('../data/small/ratings.csv',header=True,inferSchema=True)\n",
    "links = spark.read.csv('../data/small/links.csv',header=True,inferSchema=True)\n",
    "tags = spark.read.csv('../data/small/tags.csv',header=True,inferSchema=True)"
   ]
  },
  {
   "cell_type": "markdown",
   "metadata": {},
   "source": [
    "## EDA"
   ]
  },
  {
   "cell_type": "code",
   "execution_count": 100,
   "metadata": {},
   "outputs": [
    {
     "name": "stdout",
     "output_type": "stream",
     "text": [
      "Movie Schema\n",
      "root\n",
      " |-- movieId: integer (nullable = true)\n",
      " |-- title: string (nullable = true)\n",
      " |-- genres: string (nullable = true)\n",
      "\n",
      "Rating Schema\n",
      "root\n",
      " |-- userId: integer (nullable = true)\n",
      " |-- movieId: integer (nullable = true)\n",
      " |-- rating: double (nullable = true)\n",
      " |-- timestamp: integer (nullable = true)\n",
      "\n",
      "Link Schema\n",
      "root\n",
      " |-- movieId: integer (nullable = true)\n",
      " |-- imdbId: integer (nullable = true)\n",
      " |-- tmdbId: integer (nullable = true)\n",
      "\n",
      "Tag Schema\n",
      "root\n",
      " |-- userId: integer (nullable = true)\n",
      " |-- movieId: integer (nullable = true)\n",
      " |-- tag: string (nullable = true)\n",
      " |-- timestamp: integer (nullable = true)\n",
      "\n"
     ]
    }
   ],
   "source": [
    "print \"Movie Schema\"\n",
    "movies.printSchema()\n",
    "print \"Rating Schema\"\n",
    "ratings.printSchema()\n",
    "print \"Link Schema\"\n",
    "links.printSchema()\n",
    "print \"Tag Schema\"\n",
    "tags.printSchema()"
   ]
  },
  {
   "cell_type": "code",
   "execution_count": 101,
   "metadata": {},
   "outputs": [
    {
     "name": "stdout",
     "output_type": "stream",
     "text": [
      "Number of Movies :  9125\n",
      "Number of Users :  671\n"
     ]
    }
   ],
   "source": [
    "#How many Movies\n",
    "#How many Users\n",
    "num_of_movies = movies.count()\n",
    "num_of_user = ratings.select(\"userId\").distinct().count()\n",
    "\n",
    "print \"Number of Movies : \", num_of_movies\n",
    "print \"Number of Users : \", num_of_user"
   ]
  },
  {
   "cell_type": "code",
   "execution_count": 102,
   "metadata": {},
   "outputs": [
    {
     "name": "stdout",
     "output_type": "stream",
     "text": [
      "Number of Rated Movies :  9066\n",
      "Number of Unrated Movies : 59\n"
     ]
    }
   ],
   "source": [
    "#How many movies are rated by user\n",
    "#How many movies are not rated by user\n",
    "num_of_rated_movie = ratings.select(\"movieId\").distinct().count()\n",
    "print \"Number of Rated Movies : \", num_of_rated_movie\n",
    "print \"Number of Unrated Movies :\", num_of_movies - num_of_rated_movie"
   ]
  },
  {
   "cell_type": "code",
   "execution_count": 103,
   "metadata": {},
   "outputs": [
    {
     "name": "stdout",
     "output_type": "stream",
     "text": [
      "Number of Genes :  20\n",
      "Mystery\n",
      "Drama\n",
      "Western\n",
      "Sci-Fi\n",
      "Horror\n",
      "Film-Noir\n",
      "Crime\n",
      "Romance\n",
      "Fantasy\n",
      "Musical\n",
      "Animation\n",
      "War\n",
      "Adventure\n",
      "Action\n",
      "(no genres listed)\n",
      "Comedy\n",
      "Documentary\n",
      "Children\n",
      "Thriller\n",
      "IMAX\n"
     ]
    }
   ],
   "source": [
    "#List Movie Genes\n",
    "gene_set = set()\n",
    "for row in movies.collect():\n",
    "    gene = row[\"genres\"]\n",
    "    gene_set.update(gene.split(\"|\"))\n",
    "gene_set = list(gene_set)\n",
    "print \"Number of Genes : \", len(gene_set)\n",
    "for gene in gene_set:\n",
    "    print gene\n",
    "\n",
    "#Collect number of genes with iterative approach might not be optimal\n",
    "#for a large dataset. "
   ]
  },
  {
   "cell_type": "code",
   "execution_count": 104,
   "metadata": {},
   "outputs": [
    {
     "name": "stdout",
     "output_type": "stream",
     "text": [
      "Mystery 543\n",
      "Drama 4365\n",
      "Western 168\n",
      "Sci-Fi 792\n",
      "Horror 877\n",
      "Film-Noir 133\n",
      "Crime 1100\n",
      "Romance 1545\n",
      "Fantasy 654\n",
      "Musical 394\n",
      "Animation 447\n",
      "War 367\n",
      "Adventure 1117\n",
      "Action 1545\n",
      "(no genres listed) 18\n",
      "Comedy 3315\n",
      "Documentary 495\n",
      "Children 583\n",
      "Thriller 1729\n",
      "IMAX 153\n"
     ]
    }
   ],
   "source": [
    "#Number of Movies for each Category\n",
    "for gene in gene_set:\n",
    "    print gene, movies.filter(movies[\"genres\"].contains(gene)).count()"
   ]
  },
  {
   "cell_type": "code",
   "execution_count": 105,
   "metadata": {},
   "outputs": [
    {
     "name": "stdout",
     "output_type": "stream",
     "text": [
      "+------+-----+\n",
      "|rating|count|\n",
      "+------+-----+\n",
      "|   0.5| 1101|\n",
      "|   1.0| 3326|\n",
      "|   1.5| 1687|\n",
      "|   2.0| 7271|\n",
      "|   2.5| 4449|\n",
      "|   3.0|20064|\n",
      "|   3.5|10538|\n",
      "|   4.0|28750|\n",
      "|   4.5| 7723|\n",
      "|   5.0|15095|\n",
      "+------+-----+\n",
      "\n"
     ]
    }
   ],
   "source": [
    "#The rating districution\n",
    "ratings.select('rating').groupBy('rating').count().orderBy(\"rating\").show()"
   ]
  },
  {
   "cell_type": "markdown",
   "metadata": {
    "collapsed": true
   },
   "source": [
    "## Collaborative Filtering"
   ]
  },
  {
   "cell_type": "markdown",
   "metadata": {},
   "source": [
    "### Testing the ALS API"
   ]
  },
  {
   "cell_type": "code",
   "execution_count": 106,
   "metadata": {
    "collapsed": true
   },
   "outputs": [],
   "source": [
    "from pyspark.ml.recommendation import ALS\n",
    "from pyspark.ml.evaluation import RegressionEvaluator"
   ]
  },
  {
   "cell_type": "code",
   "execution_count": 107,
   "metadata": {},
   "outputs": [
    {
     "name": "stdout",
     "output_type": "stream",
     "text": [
      "+------+-------+------+----------+----------+\n",
      "|userId|movieId|rating| timestamp|prediction|\n",
      "+------+-------+------+----------+----------+\n",
      "|   575|    148|   4.0|1012605106|       NaN|\n",
      "|   534|    463|   4.0| 973377486| 3.2375717|\n",
      "|   548|    471|   4.0| 857407799| 3.4262085|\n",
      "|   602|    471|   3.0| 842357922|  3.807712|\n",
      "|    92|    471|   4.0| 848526594| 3.3870442|\n",
      "|   299|    471|   4.5|1344186741|  3.986942|\n",
      "|   309|    471|   4.0|1114565458| 3.9926248|\n",
      "|    23|    471|   3.5|1148730134| 3.5398347|\n",
      "|    73|    471|   4.0|1296460183| 3.5368383|\n",
      "|   195|    471|   3.0| 976289176| 3.1345832|\n",
      "|   508|    471|   4.0| 844377075| 4.0580688|\n",
      "|   468|    471|   4.0|1296197444| 3.0222697|\n",
      "|   294|    833|   2.0|1047074195| 2.2308617|\n",
      "|   580|   1088|   3.0|1167161194|  2.929676|\n",
      "|   262|   1088|   2.0|1433938031| 1.8564438|\n",
      "|   518|   1088|   4.0| 945362333| 3.6680784|\n",
      "|    21|   1088|   2.0| 853853701|  3.069433|\n",
      "|   281|   1088|   4.0|1113683947| 3.1655905|\n",
      "|   605|   1088|   2.0| 980176703| 2.8951445|\n",
      "|   187|   1088|   4.0|1241388285| 3.5207677|\n",
      "+------+-------+------+----------+----------+\n",
      "only showing top 20 rows\n",
      "\n"
     ]
    }
   ],
   "source": [
    "train, test = ratings.randomSplit([0.8,0.2])\n",
    "als = ALS(maxIter=3, regParam=0.2, userCol=\"userId\", itemCol=\"movieId\", ratingCol=\"rating\")\n",
    "model = als.fit(train)\n",
    "prediction = model.transform(test)\n",
    "prediction.show()"
   ]
  },
  {
   "cell_type": "code",
   "execution_count": 108,
   "metadata": {},
   "outputs": [
    {
     "name": "stdout",
     "output_type": "stream",
     "text": [
      "Mean Square Error : nan\n"
     ]
    }
   ],
   "source": [
    "evaluator = RegressionEvaluator(metricName=\"mse\", labelCol=\"rating\", predictionCol=\"prediction\")\n",
    "print \"Mean Square Error : \" + str(evaluator.evaluate(prediction))"
   ]
  },
  {
   "cell_type": "markdown",
   "metadata": {
    "collapsed": true
   },
   "source": [
    "### K-Fold Cross Validation with Hyper Parameter Tuning using Grid Search"
   ]
  },
  {
   "cell_type": "markdown",
   "metadata": {},
   "source": [
    "Depend on the train and test split, the RegressionEvaluator might return NaN, this is because some users or items in the testing set are not in the training set. Thus the prediction for such user-item combination are NaN, and the mean square error for the whole testing set is Nan. This problem can not be addressed when I use build in CrossValidator and ParamGridBuilder. Thus I will write my own Cross Validation and Grid Search implementation."
   ]
  },
  {
   "cell_type": "code",
   "execution_count": 109,
   "metadata": {},
   "outputs": [
    {
     "data": {
      "text/plain": [
       "StructType(List(StructField(userId,IntegerType,true),StructField(movieId,IntegerType,true),StructField(rating,DoubleType,true),StructField(timestamp,IntegerType,true)))"
      ]
     },
     "execution_count": 109,
     "metadata": {},
     "output_type": "execute_result"
    }
   ],
   "source": [
    "ratings.schema"
   ]
  },
  {
   "cell_type": "code",
   "execution_count": 110,
   "metadata": {
    "collapsed": true
   },
   "outputs": [],
   "source": [
    "def K_fold_Cross_Validation(data, k=5, verbose=False, **kwags):\n",
    "    mse_list = []\n",
    "    k_size = [1.0/k] * k\n",
    "    k_set = data.randomSplit(k_size)\n",
    "    for i in xrange(k):\n",
    "        test = k_set[i]\n",
    "        train = spark.createDataFrame(sc.emptyRDD(),ratings.schema)\n",
    "        for j in xrange(k):\n",
    "            if j!=i:\n",
    "                train = train.union(k_set[j])\n",
    "        als = ALS(**kwags)\n",
    "        model = als.fit(train)\n",
    "        prediction = model.transform(test)\n",
    "        mse = evaluator.evaluate(prediction.na.drop())\n",
    "        mse_list.append(mse)\n",
    "        if verbose:\n",
    "            print \"Fold : \" + str(i+1) + \"  MSE : \" + str(mse)\n",
    "    if verbose:\n",
    "        print \"Mean MSE : \" + str(sum(mse_list)/k)\n",
    "    return sum(mse_list)/k"
   ]
  },
  {
   "cell_type": "code",
   "execution_count": 111,
   "metadata": {
    "collapsed": true
   },
   "outputs": [],
   "source": [
    "import sys\n",
    "def Grid_Search():\n",
    "    ranks = [20, 30]\n",
    "    maxIters = [10, 20]\n",
    "    regParams = [0.25, 0.4]\n",
    "    best_param = {\"rank\":0,\"maxIter\":0,\"regParam\":0}\n",
    "    min_mse = sys.maxint\n",
    "    for rank in ranks:\n",
    "        for maxIter in maxIters:\n",
    "            for regParam in regParams:\n",
    "                mse = K_fold_Cross_Validation(ratings,\n",
    "                                        rank=rank,\n",
    "                                        maxIter=maxIter,\n",
    "                                        regParam=regParam,\n",
    "                                        userCol=\"userId\",\n",
    "                                        itemCol=\"movieId\",\n",
    "                                        ratingCol=\"rating\")\n",
    "                print \"rank : \" + str(rank) + \\\n",
    "                \" maxIter : \" + str(maxIter) + \\\n",
    "                \" resParam : \" + str(regParam) + \\\n",
    "                \" MSE : \" + str(mse)\n",
    "                if mse<min_mse:\n",
    "                    min_mse = mse\n",
    "                    best_param[\"rank\"] = rank\n",
    "                    best_param[\"maxIter\"] = maxIter\n",
    "                    best_param[\"regParam\"] = regParam\n",
    "    return best_param\n",
    "                "
   ]
  },
  {
   "cell_type": "code",
   "execution_count": 112,
   "metadata": {
    "scrolled": true
   },
   "outputs": [
    {
     "name": "stdout",
     "output_type": "stream",
     "text": [
      "rank : 20 maxIter : 10 resParam : 0.25 MSE : 0.848949864076\n",
      "rank : 20 maxIter : 10 resParam : 0.4 MSE : 0.959571124218\n",
      "rank : 20 maxIter : 20 resParam : 0.25 MSE : 0.842376478976\n",
      "rank : 20 maxIter : 20 resParam : 0.4 MSE : 0.95646358093\n",
      "rank : 30 maxIter : 10 resParam : 0.25 MSE : 0.846314251754\n",
      "rank : 30 maxIter : 10 resParam : 0.4 MSE : 0.958120205388\n",
      "rank : 30 maxIter : 20 resParam : 0.25 MSE : 0.84344632079\n",
      "rank : 30 maxIter : 20 resParam : 0.4 MSE : 0.957595680885\n"
     ]
    }
   ],
   "source": [
    "best_param = Grid_Search()"
   ]
  },
  {
   "cell_type": "markdown",
   "metadata": {},
   "source": [
    "## Model Evaluation with Best Hyper-parameter"
   ]
  },
  {
   "cell_type": "code",
   "execution_count": 113,
   "metadata": {},
   "outputs": [
    {
     "name": "stdout",
     "output_type": "stream",
     "text": [
      "{'regParam': 0.25, 'rank': 20, 'maxIter': 20}\n"
     ]
    }
   ],
   "source": [
    "print best_param"
   ]
  },
  {
   "cell_type": "code",
   "execution_count": 114,
   "metadata": {},
   "outputs": [
    {
     "name": "stdout",
     "output_type": "stream",
     "text": [
      "Fold : 1  MSE : 0.848217641783\n",
      "Fold : 2  MSE : 0.841329743495\n",
      "Fold : 3  MSE : 0.849560881198\n",
      "Fold : 4  MSE : 0.851102384696\n",
      "Fold : 5  MSE : 0.826718404763\n",
      "Mean MSE : 0.843385811187\n"
     ]
    }
   ],
   "source": [
    "regParam = best_param['regParam']\n",
    "rank = best_param['rank']\n",
    "maxIter = best_param[\"maxIter\"]\n",
    "mse = K_fold_Cross_Validation(ratings,\n",
    "                              rank = rank,\n",
    "                              maxIter = maxIter,\n",
    "                              regParam = regParam,\n",
    "                              verbose = True,\n",
    "                              userCol = \"userId\",\n",
    "                              itemCol=\"movieId\",\n",
    "                              ratingCol=\"rating\")"
   ]
  },
  {
   "cell_type": "markdown",
   "metadata": {},
   "source": [
    "The MSE between different fold are vary similar, which mean my best hyper-parameters from grid search are not overfitting my model. Now, let's look at the predictions and confusion matrix."
   ]
  },
  {
   "cell_type": "code",
   "execution_count": 115,
   "metadata": {},
   "outputs": [
    {
     "name": "stdout",
     "output_type": "stream",
     "text": [
      "+------+-------+------+----------+----------+\n",
      "|userId|movieId|rating| timestamp|prediction|\n",
      "+------+-------+------+----------+----------+\n",
      "|   232|    463|   4.0| 955089443|  3.447357|\n",
      "|   126|    471|   5.0| 833287141| 3.5416927|\n",
      "|   607|    471|   4.0|1118247731| 3.4747431|\n",
      "|   380|    471|   4.0| 949367667| 3.4374688|\n",
      "|   487|    471|   4.0| 832837388| 3.6994824|\n",
      "|   354|    471|   5.0| 846062674| 3.8856068|\n",
      "|   184|    471|   5.0| 833525100| 3.5703075|\n",
      "|   399|    471|   5.0| 841562601|  3.333007|\n",
      "|   412|    833|   1.0| 993091607| 1.9343022|\n",
      "|   247|    833|   3.0| 953362750| 2.2202916|\n",
      "|   128|   1088|   5.0|1049690378| 3.9126627|\n",
      "|   306|   1088|   4.0| 939760516|  3.166017|\n",
      "|   607|   1088|   2.0|1148586162| 3.3132265|\n",
      "|   531|   1088|   5.0|1244288293| 2.7358449|\n",
      "|   621|   1088|   3.5|1116476035|  3.491203|\n",
      "|   303|   1088|   3.0|1299437783| 3.0936875|\n",
      "|   468|   1088|   2.0|1296197222| 2.4424357|\n",
      "|   585|   1238|   5.0| 975362198|  4.036222|\n",
      "|   102|   1238|   4.0| 957895908| 3.9088469|\n",
      "|   105|   1238|   4.0|1086093860| 3.4859014|\n",
      "+------+-------+------+----------+----------+\n",
      "only showing top 20 rows\n",
      "\n"
     ]
    }
   ],
   "source": [
    "train, test = ratings.randomSplit([0.8,0.2])\n",
    "als = ALS(rank = rank,\n",
    "          maxIter = maxIter,\n",
    "          regParam = regParam,\n",
    "          userCol=\"userId\",\n",
    "          itemCol=\"movieId\",\n",
    "          ratingCol=\"rating\")\n",
    "model = als.fit(train)\n",
    "prediction = model.transform(test)\n",
    "prediction.show()"
   ]
  },
  {
   "cell_type": "markdown",
   "metadata": {},
   "source": [
    "As I discussed, some of the predictions could be Nan since the corresponding userId and movieId are not in training set. I will repalce Nan in prediction column with average rating."
   ]
  },
  {
   "cell_type": "code",
   "execution_count": 116,
   "metadata": {
    "collapsed": true
   },
   "outputs": [],
   "source": [
    "import numpy as np"
   ]
  },
  {
   "cell_type": "code",
   "execution_count": 117,
   "metadata": {
    "collapsed": true
   },
   "outputs": [],
   "source": [
    "avg = ratings.select('rating').groupBy().avg().first()[0]\n",
    "predict = [float(i.prediction) for i in prediction.select(\"prediction\").na.fill(avg).collect()]\n",
    "rating = [str(i.rating) for i in prediction.select(\"rating\").collect()]"
   ]
  },
  {
   "cell_type": "markdown",
   "metadata": {},
   "source": [
    "Bucketwise the prediction"
   ]
  },
  {
   "cell_type": "code",
   "execution_count": 118,
   "metadata": {
    "collapsed": true
   },
   "outputs": [],
   "source": [
    "for i in xrange(len(predict)):\n",
    "    if predict[i]<0.75:\n",
    "        predict[i] = \"0.5\"\n",
    "    elif predict[i]>=0.75 and predict[i]<1.25:\n",
    "        predict[i] = \"1.0\"\n",
    "    elif predict[i]>=1.25 and predict[i]<1.75:\n",
    "        predict[i] = \"1.5\"\n",
    "    elif predict[i]>=1.75 and predict[i]<2.25:\n",
    "        predict[i] = \"2.0\"\n",
    "    elif predict[i]>=2.25 and predict[i]<2.75:\n",
    "        predict[i] = \"2.5\"\n",
    "    elif predict[i]>=2.75 and predict[i]<3.25:\n",
    "        predict[i] = \"3.0\"\n",
    "    elif predict[i]>=3.25 and predict[i]<3.75:\n",
    "        predict[i] = \"3.5\"\n",
    "    elif predict[i]>=3.75 and predict[i]<4.25:\n",
    "        predict[i] = \"4.0\"\n",
    "    elif predict[i]>=4.25 and predict[i]<4.75:\n",
    "        predict[i] = \"4.5\"\n",
    "    else:\n",
    "        predict[i] = \"5.0\""
   ]
  },
  {
   "cell_type": "code",
   "execution_count": 119,
   "metadata": {
    "collapsed": true
   },
   "outputs": [],
   "source": [
    "from sklearn.metrics import confusion_matrix\n",
    "class_name = ['0.5','1.0','1.5','2.0','2.5','3.0','3.5','4.0','4.5','5.0']\n",
    "cnf_matrix = confusion_matrix(rating,predict,labels=class_name)\n",
    "cnf_matrix = np.asarray(cnf_matrix, dtype=int)"
   ]
  },
  {
   "cell_type": "code",
   "execution_count": 120,
   "metadata": {
    "collapsed": true
   },
   "outputs": [],
   "source": [
    "import itertools\n",
    "import matplotlib.pyplot as plt\n",
    "def plot_confusion_matrix(cm, classes,\n",
    "                          title='Confusion matrix',\n",
    "                          cmap=plt.cm.Blues):\n",
    "\n",
    "    plt.imshow(cm, interpolation='nearest', cmap=cmap)\n",
    "    plt.title(title)\n",
    "    plt.colorbar()\n",
    "    tick_marks = np.arange(len(classes))\n",
    "    plt.xticks(tick_marks, classes, rotation=45)\n",
    "    plt.yticks(tick_marks, classes)\n",
    "\n",
    "    fmt = 'd'\n",
    "    thresh = cm.max() / 2.\n",
    "    for i, j in itertools.product(range(cm.shape[0]), range(cm.shape[1])):\n",
    "        plt.text(j, i, format(cm[i, j], fmt),\n",
    "                 horizontalalignment=\"center\",\n",
    "                 color=\"white\" if cm[i, j] > thresh else \"black\")\n",
    "\n",
    "    plt.tight_layout()\n",
    "    plt.ylabel('True label')\n",
    "    plt.xlabel('Predicted label')"
   ]
  },
  {
   "cell_type": "code",
   "execution_count": 121,
   "metadata": {},
   "outputs": [
    {
     "data": {
      "image/png": "[encoded data removed]",
      "text/plain": [
       "<matplotlib.figure.Figure at 0x7f295417a250>"
      ]
     },
     "metadata": {},
     "output_type": "display_data"
    }
   ],
   "source": [
    "plt.figure()\n",
    "plot_confusion_matrix(cnf_matrix,class_name)\n",
    "plt.show()"
   ]
  },
  {
   "cell_type": "markdown",
   "metadata": {
    "collapsed": true
   },
   "source": [
    "## Future Work"
   ]
  },
  {
   "cell_type": "markdown",
   "metadata": {},
   "source": [
    "There are more work other then what I have done.\n",
    "1. Since this is a classification problem. I can plot multi-class ROC curve to further evaluate my model.\n",
    "2. More parameters can be tuned to optimize the model."
   ]
  },
  {
   "cell_type": "code",
   "execution_count": null,
   "metadata": {
    "collapsed": true
   },
   "outputs": [],
   "source": []
  }
 ],
 "metadata": {
  "kernelspec": {
   "display_name": "Python 2",
   "language": "python",
   "name": "python2"
  },
  "language_info": {
   "codemirror_mode": {
    "name": "ipython",
    "version": 2
   },
   "file_extension": ".py",
   "mimetype": "text/x-python",
   "name": "python",
   "nbconvert_exporter": "python",
   "pygments_lexer": "ipython2",
   "version": "2.7.14"
  }
 },
 "nbformat": 4,
 "nbformat_minor": 2
}
